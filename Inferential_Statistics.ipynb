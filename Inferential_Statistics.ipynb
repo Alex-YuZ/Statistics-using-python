{
 "cells": [
  {
   "cell_type": "markdown",
   "metadata": {},
   "source": [
    "<a id=\"contents\"></a>\n",
    "# Inferential Statistics\n",
    "\n",
    "**[INDEX](#contents)**\n",
    "- [Binomial Distribution](#bi_dis)\n",
    "- [Law of Large Numbers](#lln)\n",
    "- [Central Limit Theorem](#cll)\n",
    "- [Sampling Distribution](#sa_dis)\n",
    "- [Conditional Probability](#cd_prob)\n",
    "- [Bayes Rules](#by_rule)"
   ]
  },
  {
   "cell_type": "markdown",
   "metadata": {},
   "source": [
    "<a id=\"bi_dis\"></a>\n",
    "## Binomial Distribution"
   ]
  },
  {
   "cell_type": "markdown",
   "metadata": {},
   "source": [
    "**1. Factorial Number**\n",
    "\n",
    "$\n",
    "\\begin{align}\n",
    "n! = n\\cdot(n-1)\\cdot(n-2)\\cdot(n-3) \\cdots \\cdot3\\cdot2\\cdot1\n",
    "\\end{align}\n",
    "$\n",
    "\n",
    "**2. Permutation Number**\n",
    "\n",
    "$\n",
    "\\begin{align}\n",
    "A_m^n = \\frac{m!}{(m-n)!}\n",
    "\\end{align}\n",
    "$\n",
    "\n",
    "**3. Combinatorial Number**\n",
    "\n",
    "$\n",
    "\\begin{align}\n",
    "C_m^n = \\frac{A_m^n}{n!} = \\frac{m!}{n!(m-n)!}\n",
    "\\end{align}\n",
    "$\n",
    "\n",
    "where **`n`** is the number of events, **`x`** is the number of \"successes\", and **`p`** is the probability of \"success\".\n",
    "\n",
    "**4. Binomial Distribution (Or Probability Mass Function (PMF) asssociated with binomial distribution)**\n",
    "\n",
    "$\n",
    "\\begin{align}\n",
    "P(X=x) = \\frac{n!}{x!(n-x)!}p^x(1-p)^{n-x}\n",
    "\\end{align}\n",
    "$"
   ]
  },
  {
   "cell_type": "code",
   "execution_count": 4,
   "metadata": {},
   "outputs": [],
   "source": [
    "# 计算阶乘\n",
    "def factorial(n):\n",
    "    if n < 2:\n",
    "        return 1\n",
    "    else:\n",
    "        return n*factorial(n-1)\n",
    "\n",
    "# 计算组合数\n",
    "def combo(m, n):\n",
    "    return int(factorial(m)/(factorial(n)*factorial(m-n)))\n",
    "\n",
    "# 计算排列数\n",
    "def permu(m, n):\n",
    "    return int(factorial(m)/factorial(m-n))\n",
    "\n",
    "# 计算二项式概率\n",
    "def biNom(m, n, p):\n",
    "    return combo(m, n)*p**n*(1-p)**(m-n)"
   ]
  },
  {
   "cell_type": "code",
   "execution_count": 7,
   "metadata": {},
   "outputs": [
    {
     "data": {
      "text/plain": [
       "317750"
      ]
     },
     "execution_count": 7,
     "metadata": {},
     "output_type": "execute_result"
    }
   ],
   "source": [
    "# Flip a coin 125 times, get 3 heads\n",
    "combo(125, 3)"
   ]
  },
  {
   "cell_type": "code",
   "execution_count": 8,
   "metadata": {},
   "outputs": [
    {
     "data": {
      "text/plain": [
       "0.15625"
      ]
     },
     "execution_count": 8,
     "metadata": {},
     "output_type": "execute_result"
    }
   ],
   "source": [
    "# Flip a fair coin 5 times, possibility of getting 1 head\n",
    "biNom(5, 1, .5)"
   ]
  },
  {
   "cell_type": "code",
   "execution_count": 9,
   "metadata": {},
   "outputs": [
    {
     "data": {
      "text/plain": [
       "0.3125"
      ]
     },
     "execution_count": 9,
     "metadata": {},
     "output_type": "execute_result"
    }
   ],
   "source": [
    "# Flip a fair coin 5 times, possibility of getting 3 heads\n",
    "biNom(5, 3, .5)"
   ]
  },
  {
   "cell_type": "code",
   "execution_count": 10,
   "metadata": {},
   "outputs": [
    {
     "data": {
      "text/plain": [
       "0.09599999999999996"
      ]
     },
     "execution_count": 10,
     "metadata": {},
     "output_type": "execute_result"
    }
   ],
   "source": [
    "# Flip a LOADED coin 3 times, possibility of getting 1 head. (P(Head) = 0.8)\n",
    "biNom(3, 1, .8)"
   ]
  },
  {
   "cell_type": "code",
   "execution_count": 13,
   "metadata": {},
   "outputs": [
    {
     "name": "stdout",
     "output_type": "stream",
     "text": [
      "0.4096\n",
      "0.20479999999999993\n",
      "0.23622320128\n"
     ]
    }
   ],
   "source": [
    "# Flip a LOADED coin 5 times, possibility of getting 4 heads. (P(Head) = 0.8)\n",
    "print(biNom(5, 4, .8))\n",
    "\n",
    "# Flip a LOADED coin 5 times, possibility of getting 3 heads. (P(Head) = 0.8)\n",
    "print(biNom(5, 3, .8))\n",
    "\n",
    "# Flip a LOADED coin 12 times, possibility of getting 9 heads. (P(Head) = 0.8)\n",
    "print(biNom(12, 9, .8))\n",
    "\n",
    "# Flip a LOADED coin 5 times, possibility of getting 3 heads. (P(Head) = 0.8)\n",
    "# print(biNom(5, 3, .8))"
   ]
  },
  {
   "cell_type": "markdown",
   "metadata": {},
   "source": [
    "[Back](#contents)"
   ]
  },
  {
   "cell_type": "markdown",
   "metadata": {},
   "source": [
    "<a id='lln'></a>\n",
    "## Law of Large Numbers Example\n",
    "\n",
    "Demonstrate what the `Law of Large Numbers` is like. "
   ]
  },
  {
   "cell_type": "code",
   "execution_count": 124,
   "metadata": {},
   "outputs": [
    {
     "data": {
      "image/png": "[encoded data removed]",
      "text/plain": [
       "<Figure size 432x288 with 1 Axes>"
      ]
     },
     "metadata": {
      "needs_background": "light"
     },
     "output_type": "display_data"
    }
   ],
   "source": [
    "np.random.seed(42)\n",
    "\n",
    "pop_data = np.random.gamma(1,100,3000)\n",
    "plt.hist(pop_data);"
   ]
  },
  {
   "cell_type": "markdown",
   "metadata": {},
   "source": [
    "`1.` What is the the number of data values in our population dataset?"
   ]
  },
  {
   "cell_type": "code",
   "execution_count": 125,
   "metadata": {},
   "outputs": [
    {
     "data": {
      "text/plain": [
       "3000"
      ]
     },
     "execution_count": 125,
     "metadata": {},
     "output_type": "execute_result"
    }
   ],
   "source": [
    "data_size = len(pop_data)\n",
    "data_size"
   ]
  },
  {
   "cell_type": "markdown",
   "metadata": {},
   "source": [
    "`2.` What is the population mean?"
   ]
  },
  {
   "cell_type": "code",
   "execution_count": 126,
   "metadata": {},
   "outputs": [
    {
     "data": {
      "text/plain": [
       "100.35978700795846"
      ]
     },
     "execution_count": 126,
     "metadata": {},
     "output_type": "execute_result"
    }
   ],
   "source": [
    "mean_pop = pop_data.mean()\n",
    "mean_pop"
   ]
  },
  {
   "cell_type": "markdown",
   "metadata": {},
   "source": [
    "`3.` Use numpy's **random.choice** to simulate 5 draws from the `pop_data` array.  What is sample mean?"
   ]
  },
  {
   "cell_type": "code",
   "execution_count": 127,
   "metadata": {},
   "outputs": [
    {
     "data": {
      "text/plain": [
       "27.685829640608965"
      ]
     },
     "execution_count": 127,
     "metadata": {},
     "output_type": "execute_result"
    }
   ],
   "source": [
    "sample5 = np.random.choice(pop_data, 5)\n",
    "mean_sample5 = sample5.mean()\n",
    "mean_sample5"
   ]
  },
  {
   "cell_type": "markdown",
   "metadata": {},
   "source": [
    "`4.` Use numpy's **random.choice** to simulate 20 draws from the `pop_data` array.  What is sample mean?"
   ]
  },
  {
   "cell_type": "code",
   "execution_count": 128,
   "metadata": {},
   "outputs": [
    {
     "data": {
      "text/plain": [
       "163.3701520126447"
      ]
     },
     "execution_count": 128,
     "metadata": {},
     "output_type": "execute_result"
    }
   ],
   "source": [
    "sample20 = np.random.choice(pop_data, 20)\n",
    "mean_sample20 = sample20.mean()\n",
    "mean_sample20"
   ]
  },
  {
   "cell_type": "markdown",
   "metadata": {},
   "source": [
    "`5.` Use numpy's **random.choice** to simulate 100 draws from the `pop_data` array.  What is sample mean?"
   ]
  },
  {
   "cell_type": "code",
   "execution_count": 129,
   "metadata": {},
   "outputs": [
    {
     "data": {
      "text/plain": [
       "119.55076984115861"
      ]
     },
     "execution_count": 129,
     "metadata": {},
     "output_type": "execute_result"
    }
   ],
   "source": [
    "sample100 = np.random.choice(pop_data, 100)\n",
    "mean_sample100 = sample100.mean()\n",
    "mean_sample100"
   ]
  },
  {
   "cell_type": "markdown",
   "metadata": {},
   "source": [
    "`6.` Use numpy's **random.choice** to simulate 2000 draws from the `pop_data` array.  What is sample mean?"
   ]
  },
  {
   "cell_type": "code",
   "execution_count": 132,
   "metadata": {},
   "outputs": [
    {
     "data": {
      "text/plain": [
       "101.01036085911811"
      ]
     },
     "execution_count": 132,
     "metadata": {},
     "output_type": "execute_result"
    }
   ],
   "source": [
    "sample2000 = np.random.choice(pop_data, 2000)\n",
    "mean_sample2000 = sample2000.mean()\n",
    "mean_sample2000"
   ]
  },
  {
   "cell_type": "markdown",
   "metadata": {},
   "source": [
    "[Back](#contents)"
   ]
  },
  {
   "cell_type": "markdown",
   "metadata": {},
   "source": [
    "<a id=\"cll\"></a>\n",
    "## Central Limit Theorem"
   ]
  },
  {
   "cell_type": "markdown",
   "metadata": {},
   "source": [
    "### Part I: with sample size of 3"
   ]
  },
  {
   "cell_type": "code",
   "execution_count": 85,
   "metadata": {},
   "outputs": [
    {
     "data": {
      "image/png": "[encoded data removed]",
      "text/plain": [
       "<Figure size 432x288 with 1 Axes>"
      ]
     },
     "metadata": {
      "needs_background": "light"
     },
     "output_type": "display_data"
    }
   ],
   "source": [
    "np.random.seed(42)\n",
    "\n",
    "pop_data = np.random.gamma(1,100,3000)\n",
    "plt.hist(pop_data);"
   ]
  },
  {
   "cell_type": "markdown",
   "metadata": {},
   "source": [
    "`1.` In order to create the sampling distribution for the average of 3 draws of this distribution, follow these steps:\n",
    "\n",
    "`a.` Use numpy's **random.choice** to simulate 3 draws from the `pop_data` array.   <br><br>\n",
    "`b.` Compute the mean of these 3 draws. <br><br>\n",
    "`c.` Write a loop to simulate this process 10,000 times, and store each mean into an array called **means_size_3**.<br><br>\n",
    "`d.` Plot a histogram of your sample means.<br><br>\n",
    "`e.` Use **means_size_3** and **pop_data** to answer the quiz questions below.\n",
    "\n",
    "---"
   ]
  },
  {
   "cell_type": "code",
   "execution_count": 86,
   "metadata": {},
   "outputs": [
    {
     "data": {
      "text/plain": [
       "34.86585877838206"
      ]
     },
     "execution_count": 86,
     "metadata": {},
     "output_type": "execute_result"
    }
   ],
   "source": [
    "# a\n",
    "sample3 = np.random.choice(pop_data, 3)\n",
    "\n",
    "\n",
    "# b\n",
    "mean_sample3 = sample3.mean()\n",
    "mean_sample3"
   ]
  },
  {
   "cell_type": "code",
   "execution_count": 96,
   "metadata": {},
   "outputs": [],
   "source": [
    "# c mean of samples\n",
    "means_samples_3 = np.array([np.random.choice(pop_data, 3).mean() for _ in np.arange(10000)])"
   ]
  },
  {
   "cell_type": "code",
   "execution_count": 97,
   "metadata": {},
   "outputs": [
    {
     "data": {
      "image/png": "[encoded data removed]",
      "text/plain": [
       "<Figure size 432x288 with 1 Axes>"
      ]
     },
     "metadata": {
      "needs_background": "light"
     },
     "output_type": "display_data"
    }
   ],
   "source": [
    "_ = plt.hist(means_samples_3)"
   ]
  },
  {
   "cell_type": "code",
   "execution_count": 98,
   "metadata": {},
   "outputs": [
    {
     "data": {
      "text/plain": [
       "100.89818628053945"
      ]
     },
     "execution_count": 98,
     "metadata": {},
     "output_type": "execute_result"
    }
   ],
   "source": [
    "# mean of the sampling distribution\n",
    "mean_sample_means = means_samples_3.mean()\n",
    "mean_sample_means"
   ]
  },
  {
   "cell_type": "code",
   "execution_count": 108,
   "metadata": {},
   "outputs": [
    {
     "data": {
      "text/plain": [
       "3441.3760460409253"
      ]
     },
     "execution_count": 108,
     "metadata": {},
     "output_type": "execute_result"
    }
   ],
   "source": [
    "# variance of sample means with size 3\n",
    "var_sample_means_3 = means_samples_3.var()\n",
    "var_sample_means_3"
   ]
  },
  {
   "cell_type": "code",
   "execution_count": 105,
   "metadata": {},
   "outputs": [
    {
     "data": {
      "text/plain": [
       "100.35978700795846"
      ]
     },
     "execution_count": 105,
     "metadata": {},
     "output_type": "execute_result"
    }
   ],
   "source": [
    "# population mean\n",
    "mean_pop = pop_data.mean()\n",
    "mean_pop"
   ]
  },
  {
   "cell_type": "code",
   "execution_count": 103,
   "metadata": {},
   "outputs": [
    {
     "data": {
      "text/plain": [
       "58.66324271672105"
      ]
     },
     "execution_count": 103,
     "metadata": {},
     "output_type": "execute_result"
    }
   ],
   "source": [
    "# standard deviation of the sampling distribution - SE\n",
    "std_samples = means_samples_3.std()\n",
    "std_samples"
   ]
  },
  {
   "cell_type": "code",
   "execution_count": 104,
   "metadata": {},
   "outputs": [
    {
     "data": {
      "text/plain": [
       "99.77860187968906"
      ]
     },
     "execution_count": 104,
     "metadata": {},
     "output_type": "execute_result"
    }
   ],
   "source": [
    "# standard deviation of population\n",
    "std_pop = pop_data.std()\n",
    "std_pop"
   ]
  },
  {
   "cell_type": "code",
   "execution_count": 107,
   "metadata": {},
   "outputs": [
    {
     "data": {
      "text/plain": [
       "9955.76939306549"
      ]
     },
     "execution_count": 107,
     "metadata": {},
     "output_type": "execute_result"
    }
   ],
   "source": [
    "# variance of population\n",
    "var_pop = pop_data.var()\n",
    "var_pop"
   ]
  },
  {
   "cell_type": "code",
   "execution_count": 109,
   "metadata": {},
   "outputs": [
    {
     "name": "stdout",
     "output_type": "stream",
     "text": [
      "100.35978700795846 -- population mean.\n",
      "100.89818628053945 -- mean of sample means with size 3.\n",
      "\n",
      "3318.5897976884967 -- population variance divided by sample size 3.\n",
      "3441.3760460409253 -- varince of sample means with size 3\n"
     ]
    }
   ],
   "source": [
    "print(\"{} -- population mean.\\n{} -- mean of sample means with size 3.\\n\".format(mean_pop, mean_sample_means))\n",
    "print(\"{} -- population variance divided by sample size 3.\\n{} -- varince of sample means with size 3\".format(var_pop/3, \\\n",
    "                                                                                                              var_sample_means_3))"
   ]
  },
  {
   "cell_type": "markdown",
   "metadata": {},
   "source": [
    "### Part II: with sample size of 100"
   ]
  },
  {
   "cell_type": "markdown",
   "metadata": {},
   "source": [
    "`1.` In order to create the sampling distribution for the average of 100 draws of this distribution, follow these steps:\n",
    "\n",
    "`a.` Use numpy's **random.choice** to simulate 100 draws from the `pop_data` array.   <br><br>\n",
    "`b.` Compute the mean of these 100 draws. <br><br>\n",
    "`c.` Write a loop to simulate this process 10,000 times, and store each mean into an array called **means_size_100**.<br><br>\n",
    "`d.` Plot a histogram of your sample means.<br><br>\n",
    "`e.` Use **means_size_100** and **pop_data** to answer the quiz questions below."
   ]
  },
  {
   "cell_type": "code",
   "execution_count": 159,
   "metadata": {},
   "outputs": [],
   "source": [
    "def sample_distribution(size, data):\n",
    "    np.random.seed(42)\n",
    "    sample_means = np.array([np.random.choice(data, size, replace=True).mean() for _ in range(10000)])\n",
    "    mean_pop = data.mean()\n",
    "    var_pop = data.var()\n",
    "    mean_sample_means = sample_means.mean()\n",
    "    var_sample_means = sample_means.var()\n",
    "    print(\"====Sample Size: {}====\".format(size))\n",
    "    print(\"{} -- population mean.\\n{} -- mean of sample means.\\n\".format(mean_pop, mean_sample_means))\n",
    "    print(\"\"\"{} -- population variance divided by sample size.\n",
    "{} -- variance of sample means.\"\"\".format(var_pop/size, var_sample_means))\n",
    "    print()\n",
    "    plt.hist(sample_means, alpha=.5);\n",
    "    \n",
    "    "
   ]
  },
  {
   "cell_type": "code",
   "execution_count": 164,
   "metadata": {},
   "outputs": [
    {
     "name": "stdout",
     "output_type": "stream",
     "text": [
      "====Sample Size: 100====\n",
      "100.35978700795846 -- population mean.\n",
      "100.4559477159841 -- mean of sample means.\n",
      "\n",
      "99.55769393065489 -- population variance divided by sample size.\n",
      "97.48138300463255 -- variance of sample means.\n",
      "\n"
     ]
    },
    {
     "data": {
      "image/png": "[encoded data removed]",
      "text/plain": [
       "<Figure size 432x288 with 1 Axes>"
      ]
     },
     "metadata": {
      "needs_background": "light"
     },
     "output_type": "display_data"
    }
   ],
   "source": [
    "np.random.seed(42)\n",
    "pop_data = np.random.gamma(1, 100, 3000)\n",
    "\n",
    "sample_distribution(100, pop_data)"
   ]
  },
  {
   "cell_type": "markdown",
   "metadata": {},
   "source": [
    "### Larger Sample Size"
   ]
  },
  {
   "cell_type": "code",
   "execution_count": 152,
   "metadata": {},
   "outputs": [
    {
     "name": "stdout",
     "output_type": "stream",
     "text": [
      "====Sample Size: 200====\n",
      "100.35978700795846 -- population mean.\n",
      "100.38092400799661 -- mean of sample means.\n",
      "\n",
      "49.778846965327446 -- population variance divided by sample size.\n",
      "49.38928456044491 -- variance of sample means.\n",
      "\n",
      "====Sample Size: 500====\n",
      "100.35978700795846 -- population mean.\n",
      "100.36345399542053 -- mean of sample means.\n",
      "\n",
      "19.91153878613098 -- population variance divided by sample size.\n",
      "20.513669800632773 -- variance of sample means.\n",
      "\n",
      "====Sample Size: 1000====\n",
      "100.35978700795846 -- population mean.\n",
      "100.35577975651691 -- mean of sample means.\n",
      "\n",
      "9.95576939306549 -- population variance divided by sample size.\n",
      "10.031207354294082 -- variance of sample means.\n",
      "\n"
     ]
    },
    {
     "data": {
      "image/png": "[encoded data removed]",
      "text/plain": [
       "<Figure size 432x288 with 1 Axes>"
      ]
     },
     "metadata": {
      "needs_background": "light"
     },
     "output_type": "display_data"
    }
   ],
   "source": [
    "for size in [200, 500, 1000]:\n",
    "    sample_distribution(size, pop_data)"
   ]
  },
  {
   "cell_type": "markdown",
   "metadata": {},
   "source": [
    "[Back](#contents)"
   ]
  },
  {
   "cell_type": "markdown",
   "metadata": {},
   "source": [
    "<a id=\"sa_dis\"></a>\n",
    "## Sampling Distribution"
   ]
  },
  {
   "cell_type": "markdown",
   "metadata": {},
   "source": [
    "### Demo 1. Use numpy to make simulations on ***Sampling Distribution***\n",
    "\n",
    "Below is an array that represents the students in a coffee-drinking survey experiment, where 1 represents the students that drink coffee, and 0 represents the students that do not drink coffee."
   ]
  },
  {
   "cell_type": "code",
   "execution_count": 36,
   "metadata": {},
   "outputs": [],
   "source": [
    "np.random.seed(42)\n",
    "students = np.array([1,0,1,1,1,1,0,0,0,0,1,1,1,1,1,1,1,1,1,1,0])"
   ]
  },
  {
   "cell_type": "markdown",
   "metadata": {},
   "source": [
    "`1.` Find the proportion of students who drink coffee in the above array. Store this value in a variable **p**."
   ]
  },
  {
   "cell_type": "code",
   "execution_count": 37,
   "metadata": {},
   "outputs": [
    {
     "data": {
      "text/plain": [
       "0.7142857142857143"
      ]
     },
     "execution_count": 37,
     "metadata": {},
     "output_type": "execute_result"
    }
   ],
   "source": [
    "p = students.mean()\n",
    "p"
   ]
  },
  {
   "cell_type": "markdown",
   "metadata": {},
   "source": [
    "`2.` Use numpy's **random.choice** to simulate 5 draws from the `students` array.  What is proportion of your sample drink coffee?"
   ]
  },
  {
   "cell_type": "code",
   "execution_count": 38,
   "metadata": {},
   "outputs": [
    {
     "data": {
      "text/plain": [
       "0.6"
      ]
     },
     "execution_count": 38,
     "metadata": {},
     "output_type": "execute_result"
    }
   ],
   "source": [
    "sample_5 = np.random.choice(students, 5, replace=True)\n",
    "sample_5.mean()"
   ]
  },
  {
   "cell_type": "markdown",
   "metadata": {},
   "source": [
    "`3.` Repeat the above to obtain 10,000 additional proportions, where each sample was of size 5.  Store these in a variable called `sample_props`."
   ]
  },
  {
   "cell_type": "code",
   "execution_count": 39,
   "metadata": {},
   "outputs": [
    {
     "data": {
      "text/plain": [
       "array([0.6, 0.4, 0.4, 0.8, 1. , 0.8, 0.4, 0.4, 0.6, 1. ])"
      ]
     },
     "execution_count": 39,
     "metadata": {},
     "output_type": "execute_result"
    }
   ],
   "source": [
    "samples_5 = np.array([np.random.choice(students, 5, replace=True).mean() for _ in np.arange(10000)])\n",
    "samples_5[:10]"
   ]
  },
  {
   "cell_type": "markdown",
   "metadata": {},
   "source": [
    "`4.` What is the mean proportion of all 10,000 of these proportions?  This is often called **the mean of the sampling distribution**."
   ]
  },
  {
   "cell_type": "code",
   "execution_count": 40,
   "metadata": {},
   "outputs": [
    {
     "data": {
      "text/plain": [
       "0.714"
      ]
     },
     "execution_count": 40,
     "metadata": {},
     "output_type": "execute_result"
    }
   ],
   "source": [
    "mean_samples_5 = samples_5.mean()\n",
    "mean_samples_5"
   ]
  },
  {
   "cell_type": "markdown",
   "metadata": {},
   "source": [
    "<font color='red'>The sample mean seems quite close to **population mean**.</font>"
   ]
  },
  {
   "cell_type": "markdown",
   "metadata": {},
   "source": [
    "`5.` What are the variance and standard deviation for the original 21 data values?"
   ]
  },
  {
   "cell_type": "code",
   "execution_count": 41,
   "metadata": {},
   "outputs": [
    {
     "data": {
      "text/plain": [
       "0.20408163265306126"
      ]
     },
     "execution_count": 41,
     "metadata": {},
     "output_type": "execute_result"
    }
   ],
   "source": [
    "var_students = np.var(students)\n",
    "var_students"
   ]
  },
  {
   "cell_type": "code",
   "execution_count": 42,
   "metadata": {},
   "outputs": [
    {
     "data": {
      "text/plain": [
       "0.45175395145262565"
      ]
     },
     "execution_count": 42,
     "metadata": {},
     "output_type": "execute_result"
    }
   ],
   "source": [
    "std_students = np.std(students)\n",
    "std_students"
   ]
  },
  {
   "cell_type": "markdown",
   "metadata": {},
   "source": [
    "`6.` What are the variance and standard deviation for the 10,000 proportions you created?"
   ]
  },
  {
   "cell_type": "code",
   "execution_count": 43,
   "metadata": {},
   "outputs": [
    {
     "data": {
      "text/plain": [
       "0.041763999999999996"
      ]
     },
     "execution_count": 43,
     "metadata": {},
     "output_type": "execute_result"
    }
   ],
   "source": [
    "var_samples_5= np.var(samples_5)\n",
    "var_samples_5"
   ]
  },
  {
   "cell_type": "code",
   "execution_count": 44,
   "metadata": {},
   "outputs": [
    {
     "data": {
      "text/plain": [
       "0.2043624231604235"
      ]
     },
     "execution_count": 44,
     "metadata": {},
     "output_type": "execute_result"
    }
   ],
   "source": [
    "std_samples_5 = np.std(samples_5)\n",
    "std_samples_5"
   ]
  },
  {
   "cell_type": "markdown",
   "metadata": {},
   "source": [
    "`7.` Compute p(1-p), which of your answers does this most closely match? (`p`is the mean of the original set (**population**) calculated at the first step.)"
   ]
  },
  {
   "cell_type": "code",
   "execution_count": 45,
   "metadata": {},
   "outputs": [
    {
     "data": {
      "text/plain": [
       "0.20408163265306123"
      ]
     },
     "execution_count": 45,
     "metadata": {},
     "output_type": "execute_result"
    }
   ],
   "source": [
    "p*(1-p)"
   ]
  },
  {
   "cell_type": "markdown",
   "metadata": {},
   "source": [
    "<font color='red'>As we can see, `p(1-p)` most closely matches with the **variance of the population**.</font>"
   ]
  },
  {
   "cell_type": "markdown",
   "metadata": {},
   "source": [
    "`8.` Compute p(1-p)/n, which of your answers does this most closely match? (`n` is the number of the sample, i.e. n=5) Compare the result with the answer to `Q6`."
   ]
  },
  {
   "cell_type": "code",
   "execution_count": 46,
   "metadata": {},
   "outputs": [
    {
     "data": {
      "text/plain": [
       "0.04081632653061225"
      ]
     },
     "execution_count": 46,
     "metadata": {},
     "output_type": "execute_result"
    }
   ],
   "source": [
    "p*(1-p)/5  # var_samples_5 = 0.041763999999999996"
   ]
  },
  {
   "cell_type": "markdown",
   "metadata": {},
   "source": [
    "As we can see, the result from above most closely matches with the <font color='red'>sample variance of size 5, i.e. **Standard Error**</font>."
   ]
  },
  {
   "cell_type": "markdown",
   "metadata": {},
   "source": [
    "`9.` The answer to `8.` is commonly called the **variance of the sampling distribution**.  Next change the first sample to be 20, what would this do for the variance of the sampling distribution?  Simulate and calculate the new answers in `6.` and `8.` to check that the consistency you found before still holds."
   ]
  },
  {
   "cell_type": "code",
   "execution_count": 48,
   "metadata": {},
   "outputs": [],
   "source": [
    "samples_20 = np.array([np.random.choice(students, 20, replace=True).mean() for _ in np.arange(10000)])"
   ]
  },
  {
   "cell_type": "code",
   "execution_count": 50,
   "metadata": {},
   "outputs": [
    {
     "data": {
      "text/plain": [
       "0.71372"
      ]
     },
     "execution_count": 50,
     "metadata": {},
     "output_type": "execute_result"
    }
   ],
   "source": [
    "mean_samples_20 = samples_20.mean()\n",
    "mean_samples_20  # population mean p=0.7142857142857143"
   ]
  },
  {
   "cell_type": "markdown",
   "metadata": {},
   "source": [
    "<font color='red'>As expected, it is quite close to the **population mean**.</font>"
   ]
  },
  {
   "cell_type": "code",
   "execution_count": 52,
   "metadata": {},
   "outputs": [
    {
     "data": {
      "text/plain": [
       "0.0103752616"
      ]
     },
     "execution_count": 52,
     "metadata": {},
     "output_type": "execute_result"
    }
   ],
   "source": [
    "var_samples_20 = samples_20.var()\n",
    "var_samples_20"
   ]
  },
  {
   "cell_type": "code",
   "execution_count": 54,
   "metadata": {},
   "outputs": [
    {
     "data": {
      "text/plain": [
       "0.010204081632653062"
      ]
     },
     "execution_count": 54,
     "metadata": {},
     "output_type": "execute_result"
    }
   ],
   "source": [
    "# compare the result above with the follows.\n",
    "p*(1-p)/20"
   ]
  },
  {
   "cell_type": "markdown",
   "metadata": {},
   "source": [
    "Next, let's pick up a sample with **sample size 50**."
   ]
  },
  {
   "cell_type": "code",
   "execution_count": 59,
   "metadata": {},
   "outputs": [
    {
     "name": "stdout",
     "output_type": "stream",
     "text": [
      "0.7136380000000001 -- Sample Mean with sample size 50.\n",
      "0.7142857142857143 -- Mean of the population.\n",
      "\n",
      "0.0041340449559999996 -- Sample Variance with sample size 50.\n",
      "0.004081632653061225 -- Variance deriviated from population.\n"
     ]
    }
   ],
   "source": [
    "# sample size with 50\n",
    "samples_50 = np.array([np.random.choice(students, 50, replace=True).mean() for _ in range(10000)])\n",
    "\n",
    "# sample mean\n",
    "mean_samples_50 = samples_50.mean()\n",
    "\n",
    "# sample variance\n",
    "var_samples_50 = samples_50.var()\n",
    "\n",
    "# p(1-p)/50\n",
    "from_pop = p*(1-p)/50\n",
    "\n",
    "print(\"{} -- Mean of sample means with sample size 50.\".format(mean_samples_50))\n",
    "print(\"{} -- Mean of the population.\".format(p))\n",
    "print()\n",
    "print(\"{} -- Variance of sample means with sample size 50.\".format(var_samples_50))\n",
    "print(\"{} -- Variance deriviated from population.\".format(from_pop))"
   ]
  },
  {
   "cell_type": "markdown",
   "metadata": {},
   "source": [
    "`10.` Finally, plot a histgram of the 10,000 draws from both the proportions with a sample size of 5 and the proportions with a sample size of 20.  Each of these distributions is a sampling distribution.  One is for the proportions of sample size 5 and the other a sampling distribution for proportions with sample size 20."
   ]
  },
  {
   "cell_type": "code",
   "execution_count": 64,
   "metadata": {},
   "outputs": [
    {
     "data": {
      "image/png": "[encoded data removed]",
      "text/plain": [
       "<Figure size 432x288 with 1 Axes>"
      ]
     },
     "metadata": {
      "needs_background": "light"
     },
     "output_type": "display_data"
    }
   ],
   "source": [
    "_ = plt.hist(samples_5, alpha=.3)\n",
    "_ = plt.hist(samples_20, alpha=.4)\n",
    "_ = plt.hist(samples_50, alpha=.5)\n",
    "_ = plt.xlabel(\"Sample Means\")\n",
    "_ = plt.ylabel(\"Count\")"
   ]
  },
  {
   "cell_type": "markdown",
   "metadata": {},
   "source": [
    "<font color='red'>**Notice: as sample size increases, the sampling distribution becomes more '___compact___'.**</font>"
   ]
  },
  {
   "cell_type": "markdown",
   "metadata": {},
   "source": [
    "### Beyond Binomial Distribution"
   ]
  },
  {
   "cell_type": "code",
   "execution_count": 165,
   "metadata": {},
   "outputs": [
    {
     "data": {
      "image/png": "[encoded data removed]",
      "text/plain": [
       "<Figure size 432x288 with 1 Axes>"
      ]
     },
     "metadata": {
      "needs_background": "light"
     },
     "output_type": "display_data"
    }
   ],
   "source": [
    "np.random.seed(42)\n",
    "\n",
    "# Generate data from gamma distribution\n",
    "pop_data = np.random.gamma(1,100, 3000)\n",
    "\n",
    "plt.hist(pop_data);"
   ]
  },
  {
   "cell_type": "code",
   "execution_count": 166,
   "metadata": {},
   "outputs": [
    {
     "name": "stdout",
     "output_type": "stream",
     "text": [
      "100.45928252074191 -- mean of sample means with sample size 100.\n",
      "100.35978700795846 -- population mean\n",
      "\n",
      "99.45980537084546 -- variance of sample means with sample size 100.\n",
      "99.55769393065489 -- population variance divided by sample size.\n",
      "\n"
     ]
    }
   ],
   "source": [
    "sample_size = 100\n",
    "\n",
    "samples_n = np.array([np.random.choice(pop_data, sample_size, replace=True).mean() for _ in range(10000)])\n",
    "\n",
    "mean_samples_n = samples_n.mean()\n",
    "mean_pop = pop_data.mean()\n",
    "var_pop = pop_data.var()\n",
    "\n",
    "print(\"{0} -- mean of sample means with sample size {2}.\\n{1} -- population mean\\n\".format(mean_samples_n, \\\n",
    "                                                                                        mean_pop, sample_size))\n",
    "print(\"{0} -- variance of sample means with sample size {2}.\\n{1} -- population variance divided by sample size.\\n\".format(samples_n.var(), \\\n",
    "                                                                                                                        var_pop/sample_size, \\\n",
    "                                                                                                                        sample_size))\n",
    "\n"
   ]
  },
  {
   "cell_type": "markdown",
   "metadata": {},
   "source": [
    "### <font color='blue'>Important Conclusions</font>\n",
    "\n",
    "- a sample mean, regardless of its size, it always approximates to **population mean.**\n",
    "\n",
    "\n",
    "- $p*(1-p)$, equals to the **variance of population.**\n",
    "\n",
    "\n",
    "- $\\frac{p*(1-p)}{n}$, in which n is sample size, equals to the **variance of the samples.**, namely,\n",
    "\n",
    "$\n",
    "\\begin{align}\n",
    "\\hat{\\sigma}^2 = \\frac{p*(1-p)}{n}\n",
    "\\end{align}\n",
    "$\n",
    "\n",
    "---"
   ]
  },
  {
   "cell_type": "markdown",
   "metadata": {},
   "source": [
    "<a id=\"cd_prob\"></a>\n",
    "## Conditional Probability & Bayes Rules"
   ]
  },
  {
   "cell_type": "markdown",
   "metadata": {},
   "source": [
    "**1. Total Probability**\n",
    "\n",
    "$\n",
    "\\begin{align}\n",
    "P(T) = P(T|D) \\cdot P(D) + P(T|\\neg D) \\cdot P(\\neg D)\n",
    "\\end{align}\n",
    "$\n",
    "\n",
    "*where T: Test, D: Disease, $\\neg$D: Disease Free*\n",
    "\n",
    "<br>\n",
    "\n",
    "**2. Conditional Probability**\n",
    "$\n",
    "\\begin{align}\n",
    "P(A|B) = \\frac{P(A \\cap B)}{P(B)}\n",
    "\\end{align}\n",
    "$\n",
    "\n",
    "For example,  \n",
    "$\n",
    "\\begin{align}\n",
    "P(positive|disease) =  \\frac{P(positive \\cap disease)}{P(disease)}\n",
    "\\end{align}\n",
    "$\n",
    "\n",
    "where | represents \"given\" and **$\\cap\\$** represents \"and\".\n",
    "\n",
    "<font color=red>$P(positive \\cap disease)$ </font>is also called <font color=red>**Total Probability**</font> (and can also be written as <font color=red>$P(positive, disease)$</font>).\n",
    "\n",
    "<br>\n",
    "\n",
    "**Terminology**\n",
    "\n",
    "- $P(A)$ means \"the probability of A\"  \n",
    "- $P(\\neg A)$ means \"the probability of NOT A\"  \n",
    "- $P(A,B)$ means \"the probability of A **and** B\"  \n",
    "- $P(A|B)$ means \"the probability of A **given** B.  "
   ]
  },
  {
   "cell_type": "markdown",
   "metadata": {},
   "source": [
    "[Back](#contents)"
   ]
  },
  {
   "cell_type": "code",
   "execution_count": null,
   "metadata": {},
   "outputs": [],
   "source": []
  },
  {
   "cell_type": "markdown",
   "metadata": {},
   "source": [
    "<a id=\"by_rule\"></a>\n",
    "## Bayes Rule\n",
    "\n",
    "Take an example for illustration.\n",
    "\n",
    "### Terminology\n",
    "\n",
    "- **Prior Probability**\n",
    "\n",
    "$\n",
    "P(cancer) = 0.01\n",
    "$  \n",
    "\n",
    "**Normalizer** (also a **prior probability**):\n",
    "\n",
    "$\n",
    "P(pos) = P(pos|cancer) \\cdot P(cancer) + P(pos|\\neg cancer) \\cdot P(\\neg cancer)\n",
    "$\n",
    "\n",
    "<br>\n",
    "\n",
    "- **Posterior Probability**\n",
    "\n",
    "$\n",
    "\\begin{align}\n",
    "P(cancer|pos) = \\frac{P(pos, cancer)}{P(pos)}\n",
    "\\end{align}\n",
    "$\n",
    "\n",
    "<br>\n",
    "\n",
    "- **Total Probability**\n",
    "\n",
    "$\n",
    "P(pos, cancer) = P(pos|cancer) \\cdot P(cancer)\n",
    "$\n",
    "\n",
    "$\n",
    "P(pos, \\neg cancer) = P(pos|\\neg cancer) \\cdot P(\\neg cancer)\n",
    "$\n",
    "\n",
    "***Note:***  \n",
    "$P(pos, cancer)$ or $P(pos, \\neg cancer)$ also known as $P(pos \\cap cancer)$ or $P(pos \\cap \\neg cancer)$\n",
    "\n",
    "<br>\n",
    "\n",
    "- **Sensitivity**\n",
    "\n",
    "$\n",
    "P(pos|cancer) = 0.9\n",
    "$\n",
    "\n",
    "<br>\n",
    "\n",
    "- **Specificity**\n",
    "\n",
    "$\n",
    "P(neg|\\neg cancer)=0.9\n",
    "$\n",
    "\n",
    "\n",
    "### Calculation Procedure\n",
    "\n",
    "**Formula**\n",
    "\n",
    "$\n",
    "\\begin{align}\n",
    "P(cancer|pos) = \\frac{P(pos \\cap cancer)}{P(pos)}\n",
    "\\end{align}\n",
    "$\n",
    "\n",
    "***Step 1: Calculate the $P(pos \\cap cancer)$ or $P(pos, cancer)$***\n",
    " \n",
    "$\n",
    "P(pos \\cap cancer) = P(pos|cancer) \\cdot P(cancer) = P(sensitivity) \\cdot P(prior)\n",
    "$\n",
    "\n",
    "<br>\n",
    "\n",
    "***Step 2: Calculate the $P(pos \\cap \\neg cancer)$ or $P(pos, \\neg cancer)$***\n",
    "\n",
    "$\n",
    "P(pos \\cap \\neg cancer) = P(pos|\\neg cancer) \\cdot P(\\neg cancer) = (1-P(specificity)) \\cdot (1-P(prior))\n",
    "$\n",
    "\n",
    "<br>\n",
    "\n",
    "***Step 3: Calculate the $P(pos)$ -- normalization***\n",
    "\n",
    "$\n",
    "P(pos) = P(pos \\cap cancer) + P(pos \\cap \\neg cancer) = P(sensitivity) \\cdot P(prior) + (1-P(specificity)) \\cdot (1-P(prior))\n",
    "$\n",
    "\n",
    "<br>\n",
    "\n",
    "***Step 4: Calculate the posterior probability $P(cancer|pos)$***\n",
    "\n",
    "$\n",
    "\\begin{align}\n",
    "P(cancer|pos) = \\frac{P(pos \\cap cancer)}{P(pos)} = \\frac{P(sensitivity) \\cdot P(prior)}{P(sensitivity) \\cdot P(prior) + (1-P(specificity)) \\cdot (1-P(prior))}\n",
    "\\end{align}\n",
    "$"
   ]
  },
  {
   "cell_type": "code",
   "execution_count": 2,
   "metadata": {},
   "outputs": [],
   "source": [
    "def posterior_prob(prior, sensitivity, specificity):\n",
    "    \"\"\"\n",
    "    Calculate the posterior probability after the interference of an event.\n",
    "    \"\"\"\n",
    "    return prior*sensitivity/(prior*sensitivity+(1-specificity)*(1-prior))"
   ]
  },
  {
   "cell_type": "markdown",
   "metadata": {},
   "source": [
    "### Example 1: Sebastian at home\n",
    "\n",
    "<img src=sebastian_at_home_BayesRule.png>"
   ]
  },
  {
   "cell_type": "markdown",
   "metadata": {},
   "source": [
    "### Quiz 1\n",
    "\n",
    "Suppose you have a bag with **three standard** 6-sided dice with face values `[1,2,3,4,5,6]` and **two non-standard** 6-sided dice with face values `[2,3,3,4,4,5]`. Someone draws a die from the bag, rolls it, and announces it was a 3. What is the probability that the die that was rolled was a **standard die**?"
   ]
  },
  {
   "cell_type": "markdown",
   "metadata": {},
   "source": [
    "<img src='quiz1.png' width=500 align='left'>"
   ]
  },
  {
   "cell_type": "code",
   "execution_count": 6,
   "metadata": {},
   "outputs": [],
   "source": [
    "p_std_prior = 3/5\n",
    "sensi = 1/6\n",
    "speci = 2/3"
   ]
  },
  {
   "cell_type": "code",
   "execution_count": 7,
   "metadata": {},
   "outputs": [
    {
     "data": {
      "text/plain": [
       "0.42857142857142855"
      ]
     },
     "execution_count": 7,
     "metadata": {},
     "output_type": "execute_result"
    }
   ],
   "source": [
    "p_std_given_3 = posterior_prob(p_std_prior, sensi, speci)\n",
    "p_std_given_3"
   ]
  },
  {
   "cell_type": "markdown",
   "metadata": {},
   "source": [
    "[Back](#contents)"
   ]
  },
  {
   "cell_type": "code",
   "execution_count": 121,
   "metadata": {},
   "outputs": [
    {
     "data": {
      "text/plain": [
       "35.12833614050059"
      ]
     },
     "execution_count": 121,
     "metadata": {},
     "output_type": "execute_result"
    }
   ],
   "source": [
    "np.sqrt(1234)"
   ]
  },
  {
   "cell_type": "code",
   "execution_count": 123,
   "metadata": {},
   "outputs": [
    {
     "data": {
      "text/plain": [
       "True"
      ]
     },
     "execution_count": 123,
     "metadata": {},
     "output_type": "execute_result"
    }
   ],
   "source": [
    "'-' in [chr(i) for i in range(33, 127)]"
   ]
  },
  {
   "cell_type": "code",
   "execution_count": 199,
   "metadata": {},
   "outputs": [],
   "source": [
    "def nearest_square(num):\n",
    "    root = 0\n",
    "    while (root+1)**2 <= num:\n",
    "        root += 1\n",
    "        \n",
    "    return root**2"
   ]
  },
  {
   "cell_type": "code",
   "execution_count": 204,
   "metadata": {},
   "outputs": [
    {
     "data": {
      "text/plain": [
       "0"
      ]
     },
     "execution_count": 204,
     "metadata": {},
     "output_type": "execute_result"
    }
   ],
   "source": [
    "nearest_square(-2)"
   ]
  },
  {
   "cell_type": "code",
   "execution_count": 207,
   "metadata": {},
   "outputs": [],
   "source": [
    "from sklearn.metrics import confusion_matrix"
   ]
  },
  {
   "cell_type": "code",
   "execution_count": 208,
   "metadata": {},
   "outputs": [],
   "source": [
    "confusion_matrix?"
   ]
  },
  {
   "cell_type": "code",
   "execution_count": 209,
   "metadata": {},
   "outputs": [
    {
     "data": {
      "text/plain": [
       "(0, 2, 1, 1)"
      ]
     },
     "execution_count": 209,
     "metadata": {},
     "output_type": "execute_result"
    }
   ],
   "source": [
    "tn, fp, fn, tp = confusion_matrix([0, 1, 0, 1], [1, 1, 1, 0]).ravel()\n",
    "tn, fp, fn, tp"
   ]
  },
  {
   "cell_type": "code",
   "execution_count": 211,
   "metadata": {},
   "outputs": [
    {
     "data": {
      "text/plain": [
       "array([[2, 0, 0],\n",
       "       [0, 0, 1],\n",
       "       [1, 0, 2]])"
      ]
     },
     "execution_count": 211,
     "metadata": {},
     "output_type": "execute_result"
    }
   ],
   "source": [
    "y_true = [2, 0, 2, 2, 0, 1]\n",
    "y_pred = [0, 0, 2, 2, 0, 2]\n",
    "cm = confusion_matrix(y_true, y_pred)\n",
    "cm\n",
    "# array([[2, 0, 0],\n",
    "#        [0, 0, 1],\n",
    "#        [1, 0, 2]])"
   ]
  },
  {
   "cell_type": "code",
   "execution_count": 214,
   "metadata": {},
   "outputs": [
    {
     "data": {
      "text/plain": [
       "array([[2, 0, 0],\n",
       "       [0, 0, 1],\n",
       "       [1, 0, 2]])"
      ]
     },
     "execution_count": 214,
     "metadata": {},
     "output_type": "execute_result"
    }
   ],
   "source": [
    "y_true = [\"cat\", \"ant\", \"cat\", \"cat\", \"ant\", \"bird\"]\n",
    "y_pred = [\"ant\", \"ant\", \"cat\", \"cat\", \"ant\", \"cat\"]\n",
    "confusion_matrix(y_true, y_pred, labels=[\"ant\", \"bird\", \"cat\"])\n",
    "# array([[2, 0, 0],\n",
    "#        [0, 0, 1],\n",
    "#        [1, 0, 2]])"
   ]
  },
  {
   "cell_type": "code",
   "execution_count": 215,
   "metadata": {},
   "outputs": [
    {
     "data": {
      "text/plain": [
       "array([[0, 0, 1],\n",
       "       [0, 2, 0],\n",
       "       [0, 1, 2]])"
      ]
     },
     "execution_count": 215,
     "metadata": {},
     "output_type": "execute_result"
    }
   ],
   "source": [
    "confusion_matrix(y_true, y_pred, labels=[\"bird\",\"ant\", \"cat\"])"
   ]
  },
  {
   "cell_type": "code",
   "execution_count": 238,
   "metadata": {},
   "outputs": [
    {
     "name": "stdout",
     "output_type": "stream",
     "text": [
      " True Positive: 6\n",
      "False Negative: 1\n",
      "False Positive: 2\n",
      " True Negative: 5\n"
     ]
    },
    {
     "data": {
      "text/html": [
       "<div>\n",
       "<style scoped>\n",
       "    .dataframe tbody tr th:only-of-type {\n",
       "        vertical-align: middle;\n",
       "    }\n",
       "\n",
       "    .dataframe tbody tr th {\n",
       "        vertical-align: top;\n",
       "    }\n",
       "\n",
       "    .dataframe thead th {\n",
       "        text-align: right;\n",
       "    }\n",
       "</style>\n",
       "<table border=\"1\" class=\"dataframe\">\n",
       "  <thead>\n",
       "    <tr style=\"text-align: right;\">\n",
       "      <th></th>\n",
       "      <th>Pred_positive</th>\n",
       "      <th>Pred_negative</th>\n",
       "    </tr>\n",
       "  </thead>\n",
       "  <tbody>\n",
       "    <tr>\n",
       "      <th>Positive</th>\n",
       "      <td>6</td>\n",
       "      <td>1</td>\n",
       "    </tr>\n",
       "    <tr>\n",
       "      <th>Negative</th>\n",
       "      <td>2</td>\n",
       "      <td>5</td>\n",
       "    </tr>\n",
       "  </tbody>\n",
       "</table>\n",
       "</div>"
      ],
      "text/plain": [
       "          Pred_positive  Pred_negative\n",
       "Positive              6              1\n",
       "Negative              2              5"
      ]
     },
     "execution_count": 238,
     "metadata": {},
     "output_type": "execute_result"
    }
   ],
   "source": [
    "y_true = [1,1,1,1,1,1,1,0,0,0,0,0,0,0]\n",
    "y_pred = [1,1,1,1,1,1,0,0,0,0,0,0,1,1]\n",
    "\n",
    "cm = confusion_matrix(y_true, y_pred, labels=[1,0])\n",
    "\n",
    "tp, fn, fp, tn = cm.ravel()\n",
    "tp, fn, fp, tn\n",
    "print(\" True Positive:\", tp)\n",
    "print(\"False Negative:\", fn)\n",
    "print(\"False Positive:\", fp)\n",
    "print(\" True Negative:\", tn)\n",
    "\n",
    "cm_df = pd.DataFrame(cm, index=['Positive', 'Negative'], columns=['Pred_positive', 'Pred_negative'])\n",
    "cm_df"
   ]
  },
  {
   "cell_type": "code",
   "execution_count": 239,
   "metadata": {},
   "outputs": [
    {
     "data": {
      "text/plain": [
       "0.0016572626375053984"
      ]
     },
     "execution_count": 239,
     "metadata": {},
     "output_type": "execute_result"
    }
   ],
   "source": [
    "472/(472+284335)"
   ]
  },
  {
   "cell_type": "code",
   "execution_count": 242,
   "metadata": {},
   "outputs": [],
   "source": [
    "from sklearn.metrics import recall_score"
   ]
  },
  {
   "cell_type": "code",
   "execution_count": null,
   "metadata": {},
   "outputs": [],
   "source": []
  }
 ],
 "metadata": {
  "kernelspec": {
   "display_name": "Python 3 (ipykernel)",
   "language": "python",
   "name": "python3"
  },
  "language_info": {
   "codemirror_mode": {
    "name": "ipython",
    "version": 3
   },
   "file_extension": ".py",
   "mimetype": "text/x-python",
   "name": "python",
   "nbconvert_exporter": "python",
   "pygments_lexer": "ipython3",
   "version": "3.7.11"
  },
  "toc": {
   "base_numbering": 1,
   "nav_menu": {},
   "number_sections": false,
   "sideBar": true,
   "skip_h1_title": false,
   "title_cell": "Table of Contents",
   "title_sidebar": "Contents",
   "toc_cell": false,
   "toc_position": {},
   "toc_section_display": true,
   "toc_window_display": false
  }
 },
 "nbformat": 4,
 "nbformat_minor": 4
}
