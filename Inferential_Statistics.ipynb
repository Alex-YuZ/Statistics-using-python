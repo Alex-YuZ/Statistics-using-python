{
 "cells": [
  {
   "cell_type": "markdown",
   "metadata": {},
   "source": [
    "# Binomial Distribution"
   ]
  },
  {
   "cell_type": "markdown",
   "metadata": {},
   "source": [
    "**1. Factorial Number**\n",
    "\n",
    "$\n",
    "\\begin{align}\n",
    "n! = n\\cdot(n-1)\\cdot(n-2)\\cdot(n-3) \\cdots \\cdot3\\cdot2\\cdot1\n",
    "\\end{align}\n",
    "$\n",
    "\n",
    "**2. Permutation Number**\n",
    "\n",
    "$\n",
    "\\begin{align}\n",
    "A_m^n = \\frac{m!}{(m-n)!}\n",
    "\\end{align}\n",
    "$\n",
    "\n",
    "**3. Combinatorial Number**\n",
    "\n",
    "$\n",
    "\\begin{align}\n",
    "C_m^n = \\frac{A_m^n}{n!} = \\frac{m!}{n!(m-n)!}\n",
    "\\end{align}\n",
    "$\n",
    "\n",
    "where **`n`** is the number of events, **`x`** is the number of \"successes\", and **`p`** is the probability of \"success\".\n",
    "\n",
    "**4. Binomial Distribution (Or Probability Mass Function (PMF) asssociated with binomial distribution)**\n",
    "\n",
    "$\n",
    "\\begin{align}\n",
    "P(X=x) = \\frac{n!}{x!(n-x)!}p^x(1-p)^{n-x}\n",
    "\\end{align}\n",
    "$"
   ]
  },
  {
   "cell_type": "code",
   "execution_count": 4,
   "metadata": {},
   "outputs": [],
   "source": [
    "# 计算阶乘\n",
    "def factorial(n):\n",
    "    if n < 2:\n",
    "        return 1\n",
    "    else:\n",
    "        return n*factorial(n-1)\n",
    "\n",
    "# 计算组合数\n",
    "def combo(m, n):\n",
    "    return int(factorial(m)/(factorial(n)*factorial(m-n)))\n",
    "\n",
    "# 计算排列数\n",
    "def permu(m, n):\n",
    "    return int(factorial(m)/factorial(m-n))\n",
    "\n",
    "# 计算二项式概率\n",
    "def biNom(m, n, p):\n",
    "    return combo(m, n)*p**n*(1-p)**(m-n)"
   ]
  },
  {
   "cell_type": "code",
   "execution_count": 7,
   "metadata": {},
   "outputs": [
    {
     "data": {
      "text/plain": [
       "317750"
      ]
     },
     "execution_count": 7,
     "metadata": {},
     "output_type": "execute_result"
    }
   ],
   "source": [
    "# Flip a coin 125 times, get 3 heads\n",
    "combo(125, 3)"
   ]
  },
  {
   "cell_type": "code",
   "execution_count": 8,
   "metadata": {},
   "outputs": [
    {
     "data": {
      "text/plain": [
       "0.15625"
      ]
     },
     "execution_count": 8,
     "metadata": {},
     "output_type": "execute_result"
    }
   ],
   "source": [
    "# Flip a fair coin 5 times, possibility of getting 1 head\n",
    "biNom(5, 1, .5)"
   ]
  },
  {
   "cell_type": "code",
   "execution_count": 9,
   "metadata": {},
   "outputs": [
    {
     "data": {
      "text/plain": [
       "0.3125"
      ]
     },
     "execution_count": 9,
     "metadata": {},
     "output_type": "execute_result"
    }
   ],
   "source": [
    "# Flip a fair coin 5 times, possibility of getting 3 heads\n",
    "biNom(5, 3, .5)"
   ]
  },
  {
   "cell_type": "code",
   "execution_count": 10,
   "metadata": {},
   "outputs": [
    {
     "data": {
      "text/plain": [
       "0.09599999999999996"
      ]
     },
     "execution_count": 10,
     "metadata": {},
     "output_type": "execute_result"
    }
   ],
   "source": [
    "# Flip a LOADED coin 3 times, possibility of getting 1 head. (P(Head) = 0.8)\n",
    "biNom(3, 1, .8)"
   ]
  },
  {
   "cell_type": "code",
   "execution_count": 13,
   "metadata": {},
   "outputs": [
    {
     "name": "stdout",
     "output_type": "stream",
     "text": [
      "0.4096\n",
      "0.20479999999999993\n",
      "0.23622320128\n"
     ]
    }
   ],
   "source": [
    "# Flip a LOADED coin 5 times, possibility of getting 4 heads. (P(Head) = 0.8)\n",
    "print(biNom(5, 4, .8))\n",
    "\n",
    "# Flip a LOADED coin 5 times, possibility of getting 3 heads. (P(Head) = 0.8)\n",
    "print(biNom(5, 3, .8))\n",
    "\n",
    "# Flip a LOADED coin 12 times, possibility of getting 9 heads. (P(Head) = 0.8)\n",
    "print(biNom(12, 9, .8))\n",
    "\n",
    "# Flip a LOADED coin 5 times, possibility of getting 3 heads. (P(Head) = 0.8)\n",
    "# print(biNom(5, 3, .8))"
   ]
  },
  {
   "cell_type": "markdown",
   "metadata": {},
   "source": [
    "# Conditional Probability"
   ]
  },
  {
   "cell_type": "markdown",
   "metadata": {},
   "source": [
    "**1. Total Probability**\n",
    "\n",
    "$\n",
    "\\begin{align}\n",
    "P(T) = P(T|D) \\cdot P(D) + P(T|\\neg D) \\cdot P(\\neg D)\n",
    "\\end{align}\n",
    "$\n",
    "\n",
    "*where T: Test, D: Disease, $\\neg$D: Disease Free*\n",
    "\n",
    "<br>\n",
    "\n",
    "**2. Conditional Probability**\n",
    "$\n",
    "\\begin{align}\n",
    "P(A|B) = \\frac{P(A \\cap B)}{P(B)}\n",
    "\\end{align}\n",
    "$\n",
    "\n",
    "For example,  \n",
    "$\n",
    "\\begin{align}\n",
    "P(positive|disease) =  \\frac{P(positive \\cap disease)}{P(disease)}\n",
    "\\end{align}\n",
    "$\n",
    "\n",
    "where | represents \"given\" and **$\\cap\\$** represents \"and\".\n",
    "\n",
    "<font color=red>$P(positive \\cap disease)$ </font>is also called <font color=red>**Total Probability**</font> (and can also be written as <font color=red>$P(positive, disease)$</font>).\n",
    "\n",
    "<br>"
   ]
  },
  {
   "cell_type": "code",
   "execution_count": null,
   "metadata": {},
   "outputs": [],
   "source": []
  },
  {
   "cell_type": "code",
   "execution_count": null,
   "metadata": {},
   "outputs": [],
   "source": []
  },
  {
   "cell_type": "markdown",
   "metadata": {},
   "source": [
    "# Bayes Rule\n",
    "\n",
    "Take an example for illustration.\n",
    "\n",
    "## Terminology\n",
    "\n",
    "- **Prior Probability**  \n",
    "$\n",
    "P(cancer) = 0.01\n",
    "$  \n",
    "\n",
    "    **Normalizer** (also a prior probability):\n",
    "$\n",
    "P(pos) = P(pos|cancer) \\cdot P(cancer) + P(pos|\\neg cancer) \\cdot P(\\neg cancer)\n",
    "$\n",
    "\n",
    "<br>\n",
    "\n",
    "- Posterior Probability  \n",
    "$\n",
    "\\begin{align}\n",
    "P(cancer|pos) = \\frac{P(pos, cancer)}{P(pos)}\n",
    "\\end{align}\n",
    "$\n",
    "\n",
    "<br>\n",
    "\n",
    "- Total Probability  \n",
    "$\n",
    "P(pos, cancer) = P(pos|cancer) \\cdot P(cancer)\n",
    "$  \n",
    "$\n",
    "P(pos, \\neg cancer) = P(pos|\\neg cancer) \\cdot P(\\neg cancer)\n",
    "$\n",
    "\n",
    "    ***Note:***$P(pos, cancer)$ or $P(pos, \\neg cancer)$ also known as $P(pos \\cap cancer)$ or $P(pos \\cap \\neg cancer)$\n",
    "\n",
    "<br>\n",
    "\n",
    "- Sensitivity  \n",
    "$\n",
    "P(pos|cancer) = 0.9\n",
    "$\n",
    "\n",
    "<br>\n",
    "\n",
    "- Specificity  \n",
    "$\n",
    "P(neg|\\neg cancer)=0.9\n",
    "$\n",
    "\n",
    "\n",
    "## Calculation Procedure\n",
    "\n",
    "**Formula**\n",
    "\n",
    "$\n",
    "\\begin{align}\n",
    "P(cancer|pos) = \\frac{P(pos \\cap cancer)}{P(pos)}\n",
    "\\end{align}\n",
    "$\n",
    "\n",
    "***Step 1: Calculate the $P(pos \\cap cancer)$ or $P(pos, cancer)$***\n",
    " \n",
    "$\n",
    "P(pos \\cap cancer) = P(pos|cancer) \\cdot P(cancer) = P(sensitivity) \\cdot P(prior)\n",
    "$\n",
    "\n",
    "<br>\n",
    "\n",
    "***Step 2: Calculate the $P(pos \\cap \\neg cancer)$ or $P(pos, \\neg cancer)$***\n",
    "\n",
    "$\n",
    "P(pos \\cap \\neg cancer) = P(pos|\\neg cancer) \\cdot P(\\neg cancer) = (1-P(specificity)) \\cdot (1-P(prior))\n",
    "$\n",
    "\n",
    "<br>\n",
    "\n",
    "***Step 3: Calculate the $P(pos)$ -- normalization***\n",
    "\n",
    "$\n",
    "P(pos) = P(pos \\cap cancer) + P(pos \\cap \\neg cancer) = P(sensitivity) \\cdot P(prior) + (1-P(specificity)) \\cdot (1-P(prior))\n",
    "$\n",
    "\n",
    "<br>\n",
    "\n",
    "***Step 4: Calculate the posterior probability $P(cancer|pos)$***\n",
    "\n",
    "$\n",
    "\\begin{align}\n",
    "P(cancer|pos) = \\frac{P(pos \\cap cancer)}{P(pos)} = \\frac{P(sensitivity) \\cdot P(prior)}{P(sensitivity) \\cdot P(prior) + (1-P(specificity)) \\cdot (1-P(prior))}\n",
    "\\end{align}\n",
    "$"
   ]
  },
  {
   "cell_type": "code",
   "execution_count": null,
   "metadata": {},
   "outputs": [],
   "source": []
  }
 ],
 "metadata": {
  "kernelspec": {
   "display_name": "Python 3",
   "language": "python",
   "name": "python3"
  },
  "language_info": {
   "codemirror_mode": {
    "name": "ipython",
    "version": 3
   },
   "file_extension": ".py",
   "mimetype": "text/x-python",
   "name": "python",
   "nbconvert_exporter": "python",
   "pygments_lexer": "ipython3",
   "version": "3.7.9"
  }
 },
 "nbformat": 4,
 "nbformat_minor": 4
}
