{
 "cells": [
  {
   "cell_type": "code",
   "execution_count": 95,
   "metadata": {},
   "outputs": [
    {
     "data": {
      "image/png": "[encoded data removed]",
      "text/plain": [
       "<Figure size 432x288 with 1 Axes>"
      ]
     },
     "metadata": {
      "needs_background": "light"
     },
     "output_type": "display_data"
    }
   ],
   "source": [
    "res = np.random.binomial(10, .5, 100000)\n",
    "\n",
    "_ = plt.hist(res, bins=np.arange(11))\n",
    "_ = plt.xticks(np.arange(.5, 10.5), np.arange(1, 11))"
   ]
  },
  {
   "cell_type": "code",
   "execution_count": 147,
   "metadata": {},
   "outputs": [
    {
     "data": {
      "image/png": "[encoded data removed]",
      "text/plain": [
       "<Figure size 432x288 with 1 Axes>"
      ]
     },
     "metadata": {
      "needs_background": "light"
     },
     "output_type": "display_data"
    }
   ],
   "source": [
    "res = np.random.binomial(60, .5, 100000)\n",
    "\n",
    "_ = plt.hist(res, bins=np.arange(61))\n",
    "# _ = plt.xticks(np.arange(.5, 10.5), np.arange(1, 11))"
   ]
  },
  {
   "cell_type": "code",
   "execution_count": 145,
   "metadata": {},
   "outputs": [
    {
     "data": {
      "text/plain": [
       "10308"
      ]
     },
     "execution_count": 145,
     "metadata": {},
     "output_type": "execute_result"
    }
   ],
   "source": [
    "res = np.random.binomial(60, .5, 100000)\n",
    "sum(res==30)"
   ]
  },
  {
   "cell_type": "code",
   "execution_count": 69,
   "metadata": {},
   "outputs": [
    {
     "data": {
      "text/plain": [
       "array([2, 4, 3, 1, 3, 2, 5, 2, 2, 0, 2, 4, 5, 3, 3, 2, 1, 3, 3, 2, 3, 3,\n",
       "       0, 4, 3, 2, 4, 4, 2, 4, 3, 2, 4, 2, 1, 3, 4, 3, 5, 2, 4, 5, 5, 5,\n",
       "       2, 3, 5, 2, 4, 3, 4, 4, 2, 3, 2, 3, 5, 6, 5, 3, 3, 4, 3, 3, 3, 5,\n",
       "       1, 3, 4, 2, 3, 3, 5, 1, 4, 2, 2, 2, 4, 3, 5, 2, 3, 2, 0, 4, 3, 4,\n",
       "       6, 2, 4, 2, 4, 3, 2, 5, 3, 4, 2, 3])"
      ]
     },
     "execution_count": 69,
     "metadata": {},
     "output_type": "execute_result"
    }
   ],
   "source": [
    "res = np.random.binomial(6, 0.5, size=100)\n",
    "res"
   ]
  },
  {
   "cell_type": "code",
   "execution_count": 70,
   "metadata": {},
   "outputs": [
    {
     "data": {
      "text/plain": [
       "(array([ 3.,  5., 26., 30., 21., 15.]),\n",
       " array([0, 1, 2, 3, 4, 5, 6]),\n",
       " <BarContainer object of 6 artists>)"
      ]
     },
     "execution_count": 70,
     "metadata": {},
     "output_type": "execute_result"
    },
    {
     "data": {
      "image/png": "[encoded data removed]",
      "text/plain": [
       "<Figure size 432x288 with 1 Axes>"
      ]
     },
     "metadata": {
      "needs_background": "light"
     },
     "output_type": "display_data"
    }
   ],
   "source": [
    "n_bins = 7\n",
    "plt.hist(res, bins=np.arange(0, 7))"
   ]
  },
  {
   "cell_type": "code",
   "execution_count": 66,
   "metadata": {},
   "outputs": [],
   "source": [
    "plt.hist?"
   ]
  },
  {
   "cell_type": "code",
   "execution_count": null,
   "metadata": {},
   "outputs": [],
   "source": []
  }
 ],
 "metadata": {
  "kernelspec": {
   "display_name": "Python 3",
   "language": "python",
   "name": "python3"
  },
  "language_info": {
   "codemirror_mode": {
    "name": "ipython",
    "version": 3
   },
   "file_extension": ".py",
   "mimetype": "text/x-python",
   "name": "python",
   "nbconvert_exporter": "python",
   "pygments_lexer": "ipython3",
   "version": "3.7.9"
  }
 },
 "nbformat": 4,
 "nbformat_minor": 4
}
