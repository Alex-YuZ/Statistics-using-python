{
 "cells": [
  {
   "cell_type": "markdown",
   "id": "65e0ea36",
   "metadata": {},
   "source": [
    "# Statistical Thinking in Python Part II."
   ]
  },
  {
   "cell_type": "markdown",
   "id": "b30dc110",
   "metadata": {},
   "source": [
    "### Acknowledgement\n",
    "<a id='https://app.datacamp.com/learn/courses/statistical-thinking-in-python-part-2'>DataCamp</a>"
   ]
  },
  {
   "cell_type": "markdown",
   "id": "ccb5f9ce",
   "metadata": {},
   "source": [
    "### Table of Contents"
   ]
  },
  {
   "cell_type": "markdown",
   "id": "e443ad73",
   "metadata": {},
   "source": [
    "## Parameter Estimation by Optimization\n",
    "\n",
    "Datasets in Usage\n",
    "- `ml_nohitters.csv`\n",
    "- `female_literacy_fertility.csv`"
   ]
  },
  {
   "cell_type": "markdown",
   "id": "3bf3d9b3",
   "metadata": {},
   "source": [
    "### Example 1: How often do we get no-hitters?\n",
    "\n",
    "The number of games played between each no-hitter in the modern era (1901-2015) of Major League Baseball is stored in the array nohitter_times.\n",
    "\n",
    "If we assume that no-hitters are described as a **Poisson process**, then the time between no-hitters is **Exponentially** distributed. As we have seen, the ___Exponential distribution___ has a single parameter, which we will call $\\tau$, the typical interval time. The value of the parameter  that makes the exponential distribution best match the data is the mean interval time (where time is in units of *number of games*) between no-hitters.\n",
    "\n",
    "In the following, we will\n",
    "\n",
    "- Compute the mean time (in units of number of games) between no-hitters.\n",
    "- Draw 100,000 samples from an Exponential distribution with the parameter we computed from the mean of the inter-no-hitter times.\n",
    "- Plot the theoretical PDF using plt.hist() and see whether our obsevations match with the theoretical curve or not."
   ]
  },
  {
   "cell_type": "code",
   "execution_count": 1,
   "id": "7136ccd0",
   "metadata": {},
   "outputs": [],
   "source": [
    "from embedded_data import nohitter_times\n",
    "from viz_helper import ecdf, ecdf_plot"
   ]
  },
  {
   "cell_type": "code",
   "execution_count": 2,
   "id": "5c00e089",
   "metadata": {
    "scrolled": true
   },
   "outputs": [
    {
     "data": {
      "image/png": "[encoded data removed]",
      "text/plain": [
       "<Figure size 432x288 with 1 Axes>"
      ]
     },
     "metadata": {
      "needs_background": "light"
     },
     "output_type": "display_data"
    }
   ],
   "source": [
    "# Seed random number generator\n",
    "np.random.seed(42)\n",
    "\n",
    "# Compute mean no-hitter time: tau\n",
    "tau = np.mean(nohitter_times)\n",
    "\n",
    "# Draw out of an exponential distribution with parameter tau: inter_nohitter_time\n",
    "inter_nohitter_time = np.random.exponential(tau, 100_000)\n",
    "\n",
    "# Plot the PDF and label axes\n",
    "plt.figure()\n",
    "_ = plt.hist(inter_nohitter_time,\n",
    "             bins=50, \n",
    "             density=True, \n",
    "             histtype='step')\n",
    "\n",
    "_ = plt.xlabel('Games between no-hitters')\n",
    "_ = plt.ylabel('PDF')\n",
    "\n"
   ]
  },
  {
   "cell_type": "code",
   "execution_count": 4,
   "id": "8b579962",
   "metadata": {},
   "outputs": [
    {
     "data": {
      "image/png": "[encoded data removed]",
      "text/plain": [
       "<Figure size 432x288 with 1 Axes>"
      ]
     },
     "metadata": {
      "needs_background": "light"
     },
     "output_type": "display_data"
    }
   ],
   "source": [
    "# Create a CDF from theoretical samples: x_theor, y_theor\n",
    "x_theor, y_theor = ecdf(inter_nohitter_time)\n",
    "\n",
    "# CDF curve for theoretical calcs\n",
    "plt.plot(x_theor, y_theor)\n",
    "\n",
    "# CDF scatters for observations\n",
    "ecdf_plot(nohitter_times, 'Games between no-hitters')"
   ]
  },
  {
   "cell_type": "markdown",
   "id": "6ce3e59b",
   "metadata": {},
   "source": [
    "___Comment:___ It looks like no-hitters in the modern era of Major League Baseball are Exponentially distributed. Based on the story of the Exponential distribution, this suggests that they are a random process; when a no-hitter will happen is independent of when the last no-hitter was."
   ]
  },
  {
   "cell_type": "code",
   "execution_count": null,
   "id": "d141e082",
   "metadata": {},
   "outputs": [],
   "source": []
  }
 ],
 "metadata": {
  "kernelspec": {
   "display_name": "Python 3 (ipykernel)",
   "language": "python",
   "name": "python3"
  },
  "language_info": {
   "codemirror_mode": {
    "name": "ipython",
    "version": 3
   },
   "file_extension": ".py",
   "mimetype": "text/x-python",
   "name": "python",
   "nbconvert_exporter": "python",
   "pygments_lexer": "ipython3",
   "version": "3.7.11"
  },
  "toc": {
   "base_numbering": 1,
   "nav_menu": {},
   "number_sections": false,
   "sideBar": true,
   "skip_h1_title": false,
   "title_cell": "Table of Contents",
   "title_sidebar": "Contents",
   "toc_cell": false,
   "toc_position": {},
   "toc_section_display": true,
   "toc_window_display": false
  }
 },
 "nbformat": 4,
 "nbformat_minor": 5
}
