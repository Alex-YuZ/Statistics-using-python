{
 "cells": [
  {
   "cell_type": "markdown",
   "metadata": {},
   "source": [
    "<a id=\"contents\"></a>\n",
    "# Inferential Statistics\n",
    "\n",
    "**[INDEX](#contents)**\n",
    "- [Binomial Distribution](#bi_dis)\n",
    "- [Sampling Distribution](#sa_dis)\n",
    "- [Conditional Probability](#cd_prob)\n",
    "- [Bayes Rules](#by_rule)"
   ]
  },
  {
   "cell_type": "markdown",
   "metadata": {},
   "source": [
    "<a id=\"bi_dis\"></a>\n",
    "## Binomial Distribution"
   ]
  },
  {
   "cell_type": "markdown",
   "metadata": {},
   "source": [
    "**1. Factorial Number**\n",
    "\n",
    "$\n",
    "\\begin{align}\n",
    "n! = n\\cdot(n-1)\\cdot(n-2)\\cdot(n-3) \\cdots \\cdot3\\cdot2\\cdot1\n",
    "\\end{align}\n",
    "$\n",
    "\n",
    "**2. Permutation Number**\n",
    "\n",
    "$\n",
    "\\begin{align}\n",
    "A_m^n = \\frac{m!}{(m-n)!}\n",
    "\\end{align}\n",
    "$\n",
    "\n",
    "**3. Combinatorial Number**\n",
    "\n",
    "$\n",
    "\\begin{align}\n",
    "C_m^n = \\frac{A_m^n}{n!} = \\frac{m!}{n!(m-n)!}\n",
    "\\end{align}\n",
    "$\n",
    "\n",
    "where **`n`** is the number of events, **`x`** is the number of \"successes\", and **`p`** is the probability of \"success\".\n",
    "\n",
    "**4. Binomial Distribution (Or Probability Mass Function (PMF) asssociated with binomial distribution)**\n",
    "\n",
    "$\n",
    "\\begin{align}\n",
    "P(X=x) = \\frac{n!}{x!(n-x)!}p^x(1-p)^{n-x}\n",
    "\\end{align}\n",
    "$"
   ]
  },
  {
   "cell_type": "code",
   "execution_count": 4,
   "metadata": {},
   "outputs": [],
   "source": [
    "# 计算阶乘\n",
    "def factorial(n):\n",
    "    if n < 2:\n",
    "        return 1\n",
    "    else:\n",
    "        return n*factorial(n-1)\n",
    "\n",
    "# 计算组合数\n",
    "def combo(m, n):\n",
    "    return int(factorial(m)/(factorial(n)*factorial(m-n)))\n",
    "\n",
    "# 计算排列数\n",
    "def permu(m, n):\n",
    "    return int(factorial(m)/factorial(m-n))\n",
    "\n",
    "# 计算二项式概率\n",
    "def biNom(m, n, p):\n",
    "    return combo(m, n)*p**n*(1-p)**(m-n)"
   ]
  },
  {
   "cell_type": "code",
   "execution_count": 7,
   "metadata": {},
   "outputs": [
    {
     "data": {
      "text/plain": [
       "317750"
      ]
     },
     "execution_count": 7,
     "metadata": {},
     "output_type": "execute_result"
    }
   ],
   "source": [
    "# Flip a coin 125 times, get 3 heads\n",
    "combo(125, 3)"
   ]
  },
  {
   "cell_type": "code",
   "execution_count": 8,
   "metadata": {},
   "outputs": [
    {
     "data": {
      "text/plain": [
       "0.15625"
      ]
     },
     "execution_count": 8,
     "metadata": {},
     "output_type": "execute_result"
    }
   ],
   "source": [
    "# Flip a fair coin 5 times, possibility of getting 1 head\n",
    "biNom(5, 1, .5)"
   ]
  },
  {
   "cell_type": "code",
   "execution_count": 9,
   "metadata": {},
   "outputs": [
    {
     "data": {
      "text/plain": [
       "0.3125"
      ]
     },
     "execution_count": 9,
     "metadata": {},
     "output_type": "execute_result"
    }
   ],
   "source": [
    "# Flip a fair coin 5 times, possibility of getting 3 heads\n",
    "biNom(5, 3, .5)"
   ]
  },
  {
   "cell_type": "code",
   "execution_count": 10,
   "metadata": {},
   "outputs": [
    {
     "data": {
      "text/plain": [
       "0.09599999999999996"
      ]
     },
     "execution_count": 10,
     "metadata": {},
     "output_type": "execute_result"
    }
   ],
   "source": [
    "# Flip a LOADED coin 3 times, possibility of getting 1 head. (P(Head) = 0.8)\n",
    "biNom(3, 1, .8)"
   ]
  },
  {
   "cell_type": "code",
   "execution_count": 13,
   "metadata": {},
   "outputs": [
    {
     "name": "stdout",
     "output_type": "stream",
     "text": [
      "0.4096\n",
      "0.20479999999999993\n",
      "0.23622320128\n"
     ]
    }
   ],
   "source": [
    "# Flip a LOADED coin 5 times, possibility of getting 4 heads. (P(Head) = 0.8)\n",
    "print(biNom(5, 4, .8))\n",
    "\n",
    "# Flip a LOADED coin 5 times, possibility of getting 3 heads. (P(Head) = 0.8)\n",
    "print(biNom(5, 3, .8))\n",
    "\n",
    "# Flip a LOADED coin 12 times, possibility of getting 9 heads. (P(Head) = 0.8)\n",
    "print(biNom(12, 9, .8))\n",
    "\n",
    "# Flip a LOADED coin 5 times, possibility of getting 3 heads. (P(Head) = 0.8)\n",
    "# print(biNom(5, 3, .8))"
   ]
  },
  {
   "cell_type": "markdown",
   "metadata": {},
   "source": [
    "[Back](#contents)"
   ]
  },
  {
   "cell_type": "markdown",
   "metadata": {},
   "source": [
    "<a id=\"sa_dis\"></a>\n",
    "## Sampling Distribution"
   ]
  },
  {
   "cell_type": "code",
   "execution_count": null,
   "metadata": {},
   "outputs": [],
   "source": []
  },
  {
   "cell_type": "code",
   "execution_count": null,
   "metadata": {},
   "outputs": [],
   "source": []
  },
  {
   "cell_type": "code",
   "execution_count": null,
   "metadata": {},
   "outputs": [],
   "source": []
  },
  {
   "cell_type": "code",
   "execution_count": null,
   "metadata": {},
   "outputs": [],
   "source": []
  },
  {
   "cell_type": "code",
   "execution_count": null,
   "metadata": {},
   "outputs": [],
   "source": []
  },
  {
   "cell_type": "code",
   "execution_count": null,
   "metadata": {},
   "outputs": [],
   "source": []
  },
  {
   "cell_type": "code",
   "execution_count": null,
   "metadata": {},
   "outputs": [],
   "source": []
  },
  {
   "cell_type": "code",
   "execution_count": null,
   "metadata": {},
   "outputs": [],
   "source": []
  },
  {
   "cell_type": "code",
   "execution_count": null,
   "metadata": {},
   "outputs": [],
   "source": []
  },
  {
   "cell_type": "code",
   "execution_count": null,
   "metadata": {},
   "outputs": [],
   "source": []
  },
  {
   "cell_type": "code",
   "execution_count": null,
   "metadata": {},
   "outputs": [],
   "source": []
  },
  {
   "cell_type": "code",
   "execution_count": null,
   "metadata": {},
   "outputs": [],
   "source": []
  },
  {
   "cell_type": "code",
   "execution_count": null,
   "metadata": {},
   "outputs": [],
   "source": []
  },
  {
   "cell_type": "markdown",
   "metadata": {},
   "source": [
    "<a id=\"cd_prob\"></a>\n",
    "## Conditional Probability"
   ]
  },
  {
   "cell_type": "markdown",
   "metadata": {},
   "source": [
    "**1. Total Probability**\n",
    "\n",
    "$\n",
    "\\begin{align}\n",
    "P(T) = P(T|D) \\cdot P(D) + P(T|\\neg D) \\cdot P(\\neg D)\n",
    "\\end{align}\n",
    "$\n",
    "\n",
    "*where T: Test, D: Disease, $\\neg$D: Disease Free*\n",
    "\n",
    "<br>\n",
    "\n",
    "**2. Conditional Probability**\n",
    "$\n",
    "\\begin{align}\n",
    "P(A|B) = \\frac{P(A \\cap B)}{P(B)}\n",
    "\\end{align}\n",
    "$\n",
    "\n",
    "For example,  \n",
    "$\n",
    "\\begin{align}\n",
    "P(positive|disease) =  \\frac{P(positive \\cap disease)}{P(disease)}\n",
    "\\end{align}\n",
    "$\n",
    "\n",
    "where | represents \"given\" and **$\\cap\\$** represents \"and\".\n",
    "\n",
    "<font color=red>$P(positive \\cap disease)$ </font>is also called <font color=red>**Total Probability**</font> (and can also be written as <font color=red>$P(positive, disease)$</font>).\n",
    "\n",
    "<br>\n",
    "\n",
    "**Terminology**\n",
    "\n",
    "- $P(A)$ means \"the probability of A\"  \n",
    "- $P(\\neg A)$ means \"the probability of NOT A\"  \n",
    "- $P(A,B)$ means \"the probability of A **and** B\"  \n",
    "- $P(A|B)$ means \"the probability of A **given** B.  "
   ]
  },
  {
   "cell_type": "markdown",
   "metadata": {},
   "source": [
    "[Back](#contents)"
   ]
  },
  {
   "cell_type": "code",
   "execution_count": null,
   "metadata": {},
   "outputs": [],
   "source": []
  },
  {
   "cell_type": "markdown",
   "metadata": {},
   "source": [
    "<a id=\"by_rule\"></a>\n",
    "## Bayes Rule\n",
    "\n",
    "Take an example for illustration.\n",
    "\n",
    "### Terminology\n",
    "\n",
    "- **Prior Probability**  \n",
    "$\n",
    "P(cancer) = 0.01\n",
    "$  \n",
    "\n",
    "    **Normalizer** (also a **prior probability**):\n",
    "$\n",
    "P(pos) = P(pos|cancer) \\cdot P(cancer) + P(pos|\\neg cancer) \\cdot P(\\neg cancer)\n",
    "$\n",
    "\n",
    "<br>\n",
    "\n",
    "- Posterior Probability  \n",
    "$\n",
    "\\begin{align}\n",
    "P(cancer|pos) = \\frac{P(pos, cancer)}{P(pos)}\n",
    "\\end{align}\n",
    "$\n",
    "\n",
    "<br>\n",
    "\n",
    "- Total Probability  \n",
    "$\n",
    "P(pos, cancer) = P(pos|cancer) \\cdot P(cancer)\n",
    "$  \n",
    "$\n",
    "P(pos, \\neg cancer) = P(pos|\\neg cancer) \\cdot P(\\neg cancer)\n",
    "$\n",
    "\n",
    "    ***Note:***$P(pos, cancer)$ or $P(pos, \\neg cancer)$ also known as $P(pos \\cap cancer)$ or $P(pos \\cap \\neg cancer)$\n",
    "\n",
    "<br>\n",
    "\n",
    "- Sensitivity  \n",
    "$\n",
    "P(pos|cancer) = 0.9\n",
    "$\n",
    "\n",
    "<br>\n",
    "\n",
    "- Specificity  \n",
    "$\n",
    "P(neg|\\neg cancer)=0.9\n",
    "$\n",
    "\n",
    "\n",
    "### Calculation Procedure\n",
    "\n",
    "**Formula**\n",
    "\n",
    "$\n",
    "\\begin{align}\n",
    "P(cancer|pos) = \\frac{P(pos \\cap cancer)}{P(pos)}\n",
    "\\end{align}\n",
    "$\n",
    "\n",
    "***Step 1: Calculate the $P(pos \\cap cancer)$ or $P(pos, cancer)$***\n",
    " \n",
    "$\n",
    "P(pos \\cap cancer) = P(pos|cancer) \\cdot P(cancer) = P(sensitivity) \\cdot P(prior)\n",
    "$\n",
    "\n",
    "<br>\n",
    "\n",
    "***Step 2: Calculate the $P(pos \\cap \\neg cancer)$ or $P(pos, \\neg cancer)$***\n",
    "\n",
    "$\n",
    "P(pos \\cap \\neg cancer) = P(pos|\\neg cancer) \\cdot P(\\neg cancer) = (1-P(specificity)) \\cdot (1-P(prior))\n",
    "$\n",
    "\n",
    "<br>\n",
    "\n",
    "***Step 3: Calculate the $P(pos)$ -- normalization***\n",
    "\n",
    "$\n",
    "P(pos) = P(pos \\cap cancer) + P(pos \\cap \\neg cancer) = P(sensitivity) \\cdot P(prior) + (1-P(specificity)) \\cdot (1-P(prior))\n",
    "$\n",
    "\n",
    "<br>\n",
    "\n",
    "***Step 4: Calculate the posterior probability $P(cancer|pos)$***\n",
    "\n",
    "$\n",
    "\\begin{align}\n",
    "P(cancer|pos) = \\frac{P(pos \\cap cancer)}{P(pos)} = \\frac{P(sensitivity) \\cdot P(prior)}{P(sensitivity) \\cdot P(prior) + (1-P(specificity)) \\cdot (1-P(prior))}\n",
    "\\end{align}\n",
    "$"
   ]
  },
  {
   "cell_type": "code",
   "execution_count": 18,
   "metadata": {},
   "outputs": [],
   "source": [
    "def posterior_prob(prior, sensitivity, specificity):\n",
    "    \"\"\"\n",
    "    Calculate the posterior probability after the interference of an event.\n",
    "    \"\"\"\n",
    "    return prior*sensitivity/(prior*sensitivity+(1-specificity)*(1-prior))"
   ]
  },
  {
   "cell_type": "markdown",
   "metadata": {},
   "source": [
    "### Example 1: Sebastian at home\n",
    "\n",
    "<img src=sebastian_at_home_BayesRule.png>"
   ]
  },
  {
   "cell_type": "code",
   "execution_count": 30,
   "metadata": {},
   "outputs": [
    {
     "data": {
      "text/plain": [
       "0.15384615384615374"
      ]
     },
     "execution_count": 30,
     "metadata": {},
     "output_type": "execute_result"
    }
   ],
   "source": [
    "posterior_prob(0.01, 0.9, 0.95)"
   ]
  },
  {
   "cell_type": "code",
   "execution_count": 31,
   "metadata": {},
   "outputs": [
    {
     "data": {
      "text/plain": [
       "15.299999999999999"
      ]
     },
     "execution_count": 31,
     "metadata": {},
     "output_type": "execute_result"
    }
   ],
   "source": [
    "0.153/0.01"
   ]
  },
  {
   "cell_type": "code",
   "execution_count": 29,
   "metadata": {},
   "outputs": [
    {
     "data": {
      "text/plain": [
       "0.44999999999999996"
      ]
     },
     "execution_count": 29,
     "metadata": {},
     "output_type": "execute_result"
    }
   ],
   "source": [
    "0.18/0.4"
   ]
  },
  {
   "cell_type": "code",
   "execution_count": 37,
   "metadata": {},
   "outputs": [
    {
     "name": "stdout",
     "output_type": "stream",
     "text": [
      "Nice!  You got it all correct.\n",
      "\n",
      " Input 1    Input 2    Linear Combination    Activation Output   Is Correct\n",
      "       0          0                  -1.2                    0          Yes\n",
      "       0          1                  -0.2                    0          Yes\n",
      "       1          0                  -0.2                    0          Yes\n",
      "       1          1                   0.8                    1          Yes\n"
     ]
    }
   ],
   "source": [
    "# AND operation\n",
    "weight1 = 1.0\n",
    "weight2 = 1.0\n",
    "bias = -1.2\n",
    "\n",
    "\n",
    "# DON'T CHANGE ANYTHING BELOW\n",
    "# Inputs and outputs\n",
    "test_inputs = [(0, 0), (0, 1), (1, 0), (1, 1)]\n",
    "correct_outputs = [False, False, False, True]\n",
    "outputs = []\n",
    "\n",
    "# Generate and check output\n",
    "for test_input, correct_output in zip(test_inputs, correct_outputs):\n",
    "    linear_combination = weight1 * test_input[0] + weight2 * test_input[1] + bias\n",
    "    output = int(linear_combination >= 0)\n",
    "    is_correct_string = 'Yes' if output == correct_output else 'No'\n",
    "    outputs.append([test_input[0], test_input[1], linear_combination, output, is_correct_string])\n",
    "\n",
    "# Print output\n",
    "num_wrong = len([output[4] for output in outputs if output[4] == 'No'])\n",
    "output_frame = pd.DataFrame(outputs, columns=['Input 1', '  Input 2', '  Linear Combination', '  Activation Output', '  Is Correct'])\n",
    "if not num_wrong:\n",
    "    print('Nice!  You got it all correct.\\n')\n",
    "else:\n",
    "    print('You got {} wrong.  Keep trying!\\n'.format(num_wrong))\n",
    "print(output_frame.to_string(index=False))\n"
   ]
  },
  {
   "cell_type": "code",
   "execution_count": 38,
   "metadata": {},
   "outputs": [
    {
     "name": "stdout",
     "output_type": "stream",
     "text": [
      "Nice!  You got it all correct.\n",
      "\n",
      " Input 1    Input 2    Linear Combination    Activation Output   Is Correct\n",
      "       0          0                  -0.8                    0          Yes\n",
      "       0          1                   0.2                    1          Yes\n",
      "       1          0                   0.2                    1          Yes\n",
      "       1          1                   1.2                    1          Yes\n"
     ]
    }
   ],
   "source": [
    "# OR operation\n",
    "## keep the weights still, and increase the bias!!\n",
    "weight1 = 1.0  # keep still as in AND operation\n",
    "weight2 = 1.0  # keep still as in AND operation\n",
    "bias = -.8  # INCREASE the bias compared in AND oepration whose bias = -1.2\n",
    "\n",
    "\n",
    "# DON'T CHANGE ANYTHING BELOW\n",
    "# Inputs and outputs\n",
    "test_inputs = [(0, 0), (0, 1), (1, 0), (1, 1)]\n",
    "correct_outputs = [False, True, True, True]\n",
    "outputs = []\n",
    "\n",
    "# Generate and check output\n",
    "for test_input, correct_output in zip(test_inputs, correct_outputs):\n",
    "    linear_combination = weight1 * test_input[0] + weight2 * test_input[1] + bias\n",
    "    output = int(linear_combination >= 0)\n",
    "    is_correct_string = 'Yes' if output == correct_output else 'No'\n",
    "    outputs.append([test_input[0], test_input[1], linear_combination, output, is_correct_string])\n",
    "\n",
    "# Print output\n",
    "num_wrong = len([output[4] for output in outputs if output[4] == 'No'])\n",
    "output_frame = pd.DataFrame(outputs, columns=['Input 1', '  Input 2', '  Linear Combination', '  Activation Output', '  Is Correct'])\n",
    "if not num_wrong:\n",
    "    print('Nice!  You got it all correct.\\n')\n",
    "else:\n",
    "    print('You got {} wrong.  Keep trying!\\n'.format(num_wrong))\n",
    "print(output_frame.to_string(index=False))\n"
   ]
  },
  {
   "cell_type": "code",
   "execution_count": 39,
   "metadata": {},
   "outputs": [
    {
     "name": "stdout",
     "output_type": "stream",
     "text": [
      "Nice!  You got it all correct.\n",
      "\n",
      " Input 1    Input 2    Linear Combination    Activation Output   Is Correct\n",
      "       0          0                  -1.2                    0          Yes\n",
      "       0          1                   0.0                    1          Yes\n",
      "       1          0                   0.0                    1          Yes\n",
      "       1          1                   1.2                    1          Yes\n"
     ]
    }
   ],
   "source": [
    "# OR operation\n",
    "## keep the bias still, and increase the weights!!\n",
    "weight1 = 1.2  # INCREASE the weights as in AND operation\n",
    "weight2 = 1.2  # INCREASE the weights as in AND operation\n",
    "bias = -1.2  # keep still as in AND operation\n",
    "\n",
    "\n",
    "# DON'T CHANGE ANYTHING BELOW\n",
    "# Inputs and outputs\n",
    "test_inputs = [(0, 0), (0, 1), (1, 0), (1, 1)]\n",
    "correct_outputs = [False, True, True, True]\n",
    "outputs = []\n",
    "\n",
    "# Generate and check output\n",
    "for test_input, correct_output in zip(test_inputs, correct_outputs):\n",
    "    linear_combination = weight1 * test_input[0] + weight2 * test_input[1] + bias\n",
    "    output = int(linear_combination >= 0)\n",
    "    is_correct_string = 'Yes' if output == correct_output else 'No'\n",
    "    outputs.append([test_input[0], test_input[1], linear_combination, output, is_correct_string])\n",
    "\n",
    "# Print output\n",
    "num_wrong = len([output[4] for output in outputs if output[4] == 'No'])\n",
    "output_frame = pd.DataFrame(outputs, columns=['Input 1', '  Input 2', '  Linear Combination', '  Activation Output', '  Is Correct'])\n",
    "if not num_wrong:\n",
    "    print('Nice!  You got it all correct.\\n')\n",
    "else:\n",
    "    print('You got {} wrong.  Keep trying!\\n'.format(num_wrong))\n",
    "print(output_frame.to_string(index=False))\n"
   ]
  },
  {
   "cell_type": "markdown",
   "metadata": {},
   "source": [
    "[Back](#contents)"
   ]
  },
  {
   "cell_type": "code",
   "execution_count": null,
   "metadata": {},
   "outputs": [],
   "source": []
  }
 ],
 "metadata": {
  "kernelspec": {
   "display_name": "Python 3",
   "language": "python",
   "name": "python3"
  },
  "language_info": {
   "codemirror_mode": {
    "name": "ipython",
    "version": 3
   },
   "file_extension": ".py",
   "mimetype": "text/x-python",
   "name": "python",
   "nbconvert_exporter": "python",
   "pygments_lexer": "ipython3",
   "version": "3.7.9"
  }
 },
 "nbformat": 4,
 "nbformat_minor": 4
}
